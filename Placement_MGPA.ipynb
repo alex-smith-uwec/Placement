{
  "nbformat": 4,
  "nbformat_minor": 0,
  "metadata": {
    "colab": {
      "provenance": [],
      "mount_file_id": "1ta4HlC4hG1_wUsuoH1jfUMApDarzg_Vf",
      "authorship_tag": "ABX9TyP2kHcbj4R8ekPlHzUreMuk",
      "include_colab_link": true
    },
    "kernelspec": {
      "name": "python3",
      "display_name": "Python 3"
    },
    "language_info": {
      "name": "python"
    }
  },
  "cells": [
    {
      "cell_type": "markdown",
      "metadata": {
        "id": "view-in-github",
        "colab_type": "text"
      },
      "source": [
        "<a href=\"https://colab.research.google.com/github/alex-smith-uwec/Placement/blob/main/Placement_MGPA.ipynb\" target=\"_parent\"><img src=\"https://colab.research.google.com/assets/colab-badge.svg\" alt=\"Open In Colab\"/></a>"
      ]
    },
    {
      "cell_type": "code",
      "execution_count": null,
      "metadata": {
        "id": "swnuh_bIJAoo",
        "cellView": "form"
      },
      "outputs": [],
      "source": [
        "#@title\n",
        "def mgpa(grades_string):\n",
        "    grade_values = {\n",
        "        'A': 4.0,\n",
        "        'A-': 3.67,\n",
        "        'B+': 3.33,\n",
        "        'B': 3.0,\n",
        "        'B-': 2.67,\n",
        "        'C+': 2.33,\n",
        "        'C': 2.0,\n",
        "        'C-': 1.67,\n",
        "        'D+': 1.33,\n",
        "        'D': 1.0,\n",
        "        'D-': 0.67,\n",
        "        'F': 0.0\n",
        "    }\n",
        "    \n",
        "    grades = grades_string.split(' ')\n",
        "    total_grades = 0\n",
        "    count = 0\n",
        "    \n",
        "    for grade in grades:\n",
        "        grade = grade.strip()  # Remove any leading/trailing spaces\n",
        "        \n",
        "        if grade in grade_values:\n",
        "            total_grades += grade_values[grade]\n",
        "            count += 1\n",
        "        else:\n",
        "            raise ValueError(f\"Invalid grade: {grade}\")  # Raise an error for invalid grades\n",
        "    \n",
        "    if count > 0:\n",
        "        mgpa = round(total_grades / count, 2)\n",
        "        return mgpa\n",
        "    else:\n",
        "        return 0.0  # Default GPA when no valid grades are provided\n"
      ]
    },
    {
      "cell_type": "code",
      "source": [
        "\n",
        "L='B+ B C D C- D'\n",
        "x=mgpa(L)\n",
        "print(x)\n"
      ],
      "metadata": {
        "colab": {
          "base_uri": "https://localhost:8080/"
        },
        "id": "1Q9-aqHvKvIw",
        "outputId": "54beb030-912e-4f23-9443-648c786a54dd"
      },
      "execution_count": 24,
      "outputs": [
        {
          "output_type": "stream",
          "name": "stdout",
          "text": [
            "2.0\n"
          ]
        }
      ]
    },
    {
      "cell_type": "code",
      "source": [],
      "metadata": {
        "id": "6FLXbC6LNl8X"
      },
      "execution_count": null,
      "outputs": []
    }
  ]
}