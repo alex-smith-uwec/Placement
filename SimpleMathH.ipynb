{
  "cells": [
    {
      "cell_type": "markdown",
      "metadata": {
        "id": "view-in-github",
        "colab_type": "text"
      },
      "source": [
        "<a href=\"https://colab.research.google.com/github/alex-smith-uwec/Placement/blob/main/SimpleMathH.ipynb\" target=\"_parent\"><img src=\"https://colab.research.google.com/assets/colab-badge.svg\" alt=\"Open In Colab\"/></a>"
      ]
    },
    {
      "cell_type": "markdown",
      "metadata": {
        "id": "VXZkfWLmzTID"
      },
      "source": [
        "# Start up functions to calculate MATHH read in from h.py"
      ]
    },
    {
      "cell_type": "code",
      "source": [
        "import numpy as np\n",
        "import pandas as pd\n",
        "import json"
      ],
      "metadata": {
        "id": "U08TcXqhmgnc"
      },
      "execution_count": 1,
      "outputs": []
    },
    {
      "cell_type": "code",
      "source": [
        "#@title Initialize functions\n",
        "##Define a function F_mpt to return math placement level between 1 and 7\n",
        "def F_mpt(mfund, aalg, tag):\n",
        "    if np.isnan(mfund):\n",
        "        return np.nan\n",
        "    if mfund < 355:\n",
        "        return 1\n",
        "    elif mfund < 465 and aalg < 455:\n",
        "        return 2\n",
        "    elif mfund < 465:\n",
        "        return 3\n",
        "    elif aalg < 400:\n",
        "        return 4\n",
        "    elif aalg < 555:\n",
        "        return 5\n",
        "    elif aalg < 575:\n",
        "        return 6\n",
        "    elif aalg>575 and tag<555:\n",
        "       return 6\n",
        "    else:\n",
        "        return 7\n",
        "\n",
        "##varible order:\n",
        "###### [gpa, mgpa, mact, mpt, sen]\n",
        "\n",
        "## gpa is overall gradepoint average (capped at 4)\n",
        "##mgpa is math gpa calculated during transcript review\n",
        "##mact is math ACT\n",
        "##mpt is math placement level as determined by mfund, aalg, tag\n",
        "##sen is assessment of senior year math achievement. Ranges from 0 to 10. Determined during transcript review. SEE RUBRIC!!\n",
        "\n",
        "\n",
        "\n",
        "##H_none: determines MATHH with no ACT, no MPT. Uses mgpa and sen from transcript review\n",
        "def H_none(gpa, mgpa, sen):\n",
        "    agpa = (gpa + mgpa) / 2\n",
        "\n",
        "    if sen >= 8:\n",
        "        if agpa >= 3.5:\n",
        "            return 7\n",
        "        elif agpa >= 3.25:\n",
        "            return 6\n",
        "        elif agpa >= 3:\n",
        "            return 5\n",
        "        elif agpa >= 2.5:\n",
        "            return 4\n",
        "        else:\n",
        "            return 3\n",
        "    elif sen >= 5 and sen < 8:\n",
        "        if agpa >= 3.5:\n",
        "            return 6\n",
        "        elif agpa >= 3.25:\n",
        "            return 5\n",
        "        elif agpa >= 2.5:\n",
        "            return 4\n",
        "        else:\n",
        "            return 3\n",
        "    elif sen >= 3 and sen < 5:\n",
        "        if agpa > 3.5:\n",
        "            return 5\n",
        "        elif agpa >= 3:\n",
        "            return 4\n",
        "        elif agpa >= 2.5:\n",
        "            return 3\n",
        "        else:\n",
        "            return 2\n",
        "    else:  # sen < 3\n",
        "        if agpa > 3.5:\n",
        "            return 4\n",
        "        elif agpa >= 3:\n",
        "            return 3\n",
        "        elif agpa >= 2.5:\n",
        "            return 2\n",
        "        else:\n",
        "            return 1\n",
        "\n",
        "##H_mpt: determines MATHH with additional info of MPT only\n",
        "def H_mpt(gpa, mgpa, mpt, sen):\n",
        "    h0 = H_none(gpa, mgpa, sen)\n",
        "\n",
        "    if mpt <= h0 - 2:\n",
        "        return h0\n",
        "    elif mpt<=h0:\n",
        "        return h0\n",
        "    else:\n",
        "        return min(h0 + 1, 7)\n",
        "\n",
        "##H_mact: determines MATHH with additional info of MACT only\n",
        "def H_mact(gpa, mgpa, mact, sen):\n",
        "    h0 = H_none(gpa, mgpa, sen)\n",
        "\n",
        "    if h0 >= 4:#was h0>=5 before June 4\n",
        "        return h0\n",
        "    else:\n",
        "        if mact >= 23:\n",
        "            return 5\n",
        "        elif mact == 22:\n",
        "            return 4\n",
        "        elif mact == 21:\n",
        "            return 3\n",
        "        elif mact > 16:\n",
        "            return 2\n",
        "        else:\n",
        "            return 1\n",
        "\n",
        "\n",
        "##H_both: determines MATHH with additional info of  both MACT and MPT\n",
        "def H_both(gpa,mgpa,mact,mpt, sen):\n",
        "    value2 = H_none(gpa, mgpa, sen)\n",
        "    value3 = H_mpt(gpa, mgpa, mpt, sen)\n",
        "    value6 = H_mact(gpa, mgpa, mact, sen)\n",
        "\n",
        "    return max(value2, value3, value6)\n",
        "\n",
        "##This function takes a dataframe with specific column names and classifies cases by \"Type\".\n",
        "##Depending on Type, one of the four H functions will later be used to determine MATHH\n",
        "def process_dataframe(df):\n",
        "    df_typed = df.copy()\n",
        "    df_typed['Type'] = 'x'\n",
        "    ##cap GPA at 4.0\n",
        "    df_typed['GPA'] = df_typed['GPA'].apply(lambda x: min(x, 4) if not pd.isna(x) else 'x')\n",
        "\n",
        "    df_typed.loc[(df['MACT'].isna()) & (df['MGPA'].notna()) & (df['MPT'].isna()) & (df['SEN'].notna()),'Type'] = 'h_none'\n",
        "    df_typed.loc[(df['MACT'].isna()) & (df['MPT'].notna())& (df['MGPA'].notna()) & (df['SEN'].notna()), 'Type'] = 'h_mpt'\n",
        "    df_typed.loc[(df['MACT'].notna()) & (df['MPT'].notna()) &(df['MGPA'].isna()) & (df['SEN'].isna()), 'Type'] = 'expedited'\n",
        "    df_typed.loc[(df['MACT'].notna()) & (df['MPT'].isna())& (df['MGPA'].notna()) & (df['SEN'].notna()), 'Type'] = 'h_mact'\n",
        "    df_typed.loc[(df['MACT'].notna()) & (df['MPT'].notna())& (df['MGPA'].notna()) & (df['SEN'].notna()), 'Type'] = 'h_both'\n",
        "\n",
        "    return df_typed\n",
        "\n",
        "def apply_model(row):\n",
        "    if row['Type'] == 'h_none':\n",
        "        return H_none(row['GPA'], row['MGPA'], row['SEN'])\n",
        "    elif row['Type'] == 'h_mpt':\n",
        "        return H_mpt(row['GPA'], row['MGPA'], row['MPT'], row['SEN'])\n",
        "    elif row['Type'] == 'h_mact':\n",
        "        return H_mact(row['GPA'], row['MGPA'], row['MACT'], row['SEN'])\n",
        "    elif row['Type'] == 'h_both':\n",
        "        return H_both(row['GPA'],row['MGPA'], row['MACT'], row['MPT'], row['SEN'])\n",
        "    else:\n",
        "        return None\n",
        "\n"
      ],
      "metadata": {
        "cellView": "form",
        "id": "1DYOr0hxllUa"
      },
      "execution_count": 2,
      "outputs": []
    },
    {
      "cell_type": "code",
      "source": [
        "#@title\n",
        "#useful widget to remember variable names and function name conventions\n",
        "Setup = [\n",
        "    ['H_none', 1, 1, 0, 0, 1,'(gpa,mgpa,sen)'],\n",
        "    ['H_mpt', 1, 1, 0, 1, 1,'(gpa,mgpa,mpt,sen)'],\n",
        "    ['H_mact', 1, 1, 1, 0, 1,'(gpa,mgpa,mact,sen)'],\n",
        "    ['H_both', 1, 1, 1, 1, 1,'(gpa,mgpa,mact,mpt,sen)']\n",
        "]\n",
        "columns = ['', 'gpa', 'mgpa', 'mact', 'mpt', 'sen','calling sequence']\n",
        "Setup = pd.DataFrame(Setup, columns=columns)\n",
        "widgit_title = \"Widget to remember name conventions\\nH is for 'Holistic'\"\n",
        "print(widgit_title)\n",
        "print(Setup.to_string(index=False))\n",
        "print('\\nF_mpt(mfund,aalg,tag) for placement level as determined by placement scores')"
      ],
      "metadata": {
        "colab": {
          "base_uri": "https://localhost:8080/"
        },
        "cellView": "form",
        "id": "1iDSSia6fdfH",
        "outputId": "1b6f2ff7-235b-49fb-fd61-c43dc8dbee85"
      },
      "execution_count": null,
      "outputs": [
        {
          "output_type": "stream",
          "name": "stdout",
          "text": [
            "Widget to remember name conventions\n",
            "H is for 'Holistic'\n",
            "        gpa  mgpa  mact  mpt  sen        calling sequence\n",
            "H_none    1     1     0    0    1          (gpa,mgpa,sen)\n",
            " H_mpt    1     1     0    1    1      (gpa,mgpa,mpt,sen)\n",
            "H_mact    1     1     1    0    1     (gpa,mgpa,mact,sen)\n",
            "H_both    1     1     1    1    1 (gpa,mgpa,mact,mpt,sen)\n",
            "\n",
            "F_mpt(mfund,aalg,tag) for placement level as determined by placement scores\n"
          ]
        }
      ]
    },
    {
      "cell_type": "markdown",
      "source": [
        "#Examples"
      ],
      "metadata": {
        "id": "lZEgEM1xiXJ3"
      }
    },
    {
      "cell_type": "code",
      "source": [
        "##Example\n",
        "print(\"Placement test level for mfund=470,aalg=300,tag=350 is F_mpt(470,300,350):\")\n",
        "F_mpt(470,300,35)"
      ],
      "metadata": {
        "colab": {
          "base_uri": "https://localhost:8080/"
        },
        "id": "3TtBLFmva1hX",
        "outputId": "d33ccfcd-0cdf-466b-e5a4-d8e1708f32a5"
      },
      "execution_count": null,
      "outputs": [
        {
          "output_type": "stream",
          "name": "stdout",
          "text": [
            "Placement test level for mfund=470,aalg=300,tag=350 is F_mpt(470,300,350):\n"
          ]
        },
        {
          "output_type": "execute_result",
          "data": {
            "text/plain": [
              "4"
            ]
          },
          "metadata": {},
          "execution_count": 3
        }
      ]
    },
    {
      "cell_type": "code",
      "source": [
        "##Example\n",
        "print(\"Scenario: placement scores indicate level 4 with gpa=2.6,mgpa=2.5,senior math=7 then MATHH is:\")\n",
        "H_mpt(2.6,2.5,4,7)"
      ],
      "metadata": {
        "colab": {
          "base_uri": "https://localhost:8080/"
        },
        "id": "yHlx2P55baWr",
        "outputId": "30afeb9a-919f-430d-e52e-55f83a65c1b4"
      },
      "execution_count": null,
      "outputs": [
        {
          "output_type": "stream",
          "name": "stdout",
          "text": [
            "Scenario: placement scores indicate level 4 with gpa=2.6,mgpa=2.5,senior math=7 then MATHH is:\n"
          ]
        },
        {
          "output_type": "execute_result",
          "data": {
            "text/plain": [
              "4"
            ]
          },
          "metadata": {},
          "execution_count": 4
        }
      ]
    },
    {
      "cell_type": "markdown",
      "source": [
        "# Workspace"
      ],
      "metadata": {
        "id": "BbDyPowRjDB7"
      }
    },
    {
      "cell_type": "code",
      "source": [
        "H_none(3.3,3.5,7)"
      ],
      "metadata": {
        "colab": {
          "base_uri": "https://localhost:8080/"
        },
        "id": "y5tLP_a9ivVd",
        "outputId": "a87dfbda-71e0-4935-cf60-760c1708941a"
      },
      "execution_count": null,
      "outputs": [
        {
          "output_type": "execute_result",
          "data": {
            "text/plain": [
              "5"
            ]
          },
          "metadata": {},
          "execution_count": 6
        }
      ]
    },
    {
      "cell_type": "code",
      "source": [
        "F_mpt(380, 380, 340)"
      ],
      "metadata": {
        "id": "1aYfldZq8uzN",
        "colab": {
          "base_uri": "https://localhost:8080/"
        },
        "outputId": "9d4d363a-2e2a-4093-e5c4-190d2ee8c4e4"
      },
      "execution_count": null,
      "outputs": [
        {
          "output_type": "execute_result",
          "data": {
            "text/plain": [
              "2"
            ]
          },
          "metadata": {},
          "execution_count": 3
        }
      ]
    },
    {
      "cell_type": "code",
      "source": [
        "H_mpt(3.09,2.6,2,7)"
      ],
      "metadata": {
        "colab": {
          "base_uri": "https://localhost:8080/"
        },
        "id": "FSiOC-nHAqdS",
        "outputId": "f1b11007-0c2f-4258-8f9d-4cedc20bfe24"
      },
      "execution_count": null,
      "outputs": [
        {
          "output_type": "execute_result",
          "data": {
            "text/plain": [
              "4"
            ]
          },
          "metadata": {},
          "execution_count": 4
        }
      ]
    },
    {
      "cell_type": "code",
      "source": [
        "H_both(3.56,2.22,17,7,2)"
      ],
      "metadata": {
        "id": "ioEF0xJM8vG4",
        "colab": {
          "base_uri": "https://localhost:8080/"
        },
        "outputId": "85d29e3c-8bd8-45ad-c705-26e12505024b"
      },
      "execution_count": null,
      "outputs": [
        {
          "output_type": "execute_result",
          "data": {
            "text/plain": [
              "3"
            ]
          },
          "metadata": {},
          "execution_count": 6
        }
      ]
    },
    {
      "cell_type": "code",
      "source": [],
      "metadata": {
        "id": "CBOwF3Dri8gZ"
      },
      "execution_count": null,
      "outputs": []
    },
    {
      "cell_type": "markdown",
      "source": [
        "# Senior level notes"
      ],
      "metadata": {
        "id": "PYt3PSsgrcmT"
      }
    },
    {
      "cell_type": "markdown",
      "source": [
        "[Most updated data in first tab of placement spreadsheet](https://universityofwieauclaire-my.sharepoint.com/:x:/g/personal/brisbia_uwec_edu/EZ3WpzF_2WJMg_gwp4TDMRoBj4MpcfksUS6i4syzA_T1bA?e=Qdkd0C)"
      ],
      "metadata": {
        "id": "EmeJE7DS7bLE"
      }
    },
    {
      "cell_type": "code",
      "source": [
        "#@title\n",
        "##Edit table or recover table in case it gets deleted. string--> dictionary-->dataframe\n",
        "df_dict_string='{\"SEN\": {\"0\": \"9-10\", \"1\": \"8-9\", \"2\": \"7-8\", \"3\": \"6-7\", \"4\": \"5-6\", \"5\": \"4-5\", \"6\": \".\", \"7\": \"2-3\", \"8\": \"1-2\", \"9\": \"0-1\"}, \"Course\": {\"0\": \"AP Calc BC\", \"1\": \"AP Calc AB\", \"2\": \"PreCalc\", \"3\": \"FST (Functions/Stat/Trig)\", \"4\": \"Algebra 3/Advanced Alg\", \"5\": \"AP Stats\", \"6\": \".\", \"7\": \"Alg 2 or non-AP Stats\", \"8\": \"Quantitiative Reasoning\", \"9\": \"No info\"}, \"Notes\": {\"0\": \"grade A: 10, grade B: 9.5, lower than B or unknown: 9..similar striation for lower tiers\", \"1\": \".\", \"2\": \"(High School Calc not AP, etc)\", \"3\": \" (Business Calc, Applied Calc, etc.)\", \"4\": \"(College Algebra, Trig, PreCalc Algebra, etc.)\", \"5\": \"(College Prep Math, Math Applications, etc.)\", \"6\": \".\", \"7\": \"(Prob and Stats, CIS Stats, etc.)\", \"8\": \"(Liberal Arts Math, Modeling with Math, Math Problem Solving, etc.)\", \"9\": \"(Tech College Math, Personal Finance, etc.)\"}}'\n",
        "# Convert the string back to a dictionary\n",
        "df_dict = json.loads(df_dict_string)\n",
        "# Convert the dictionary to a DataFrame\n",
        "df = pd.DataFrame(df_dict)\n",
        "df.set_index('SEN')"
      ],
      "metadata": {
        "colab": {
          "base_uri": "https://localhost:8080/",
          "height": 315
        },
        "cellView": "form",
        "id": "0GidxRG32Ll6",
        "outputId": "a861c3f0-33d7-42d5-edf1-4fbc17991b37"
      },
      "execution_count": null,
      "outputs": [
        {
          "output_type": "execute_result",
          "data": {
            "text/plain": [
              "                         Course  \\\n",
              "SEN                               \n",
              "9-10                 AP Calc BC   \n",
              "8-9                  AP Calc AB   \n",
              "7-8                     PreCalc   \n",
              "6-7   FST (Functions/Stat/Trig)   \n",
              "5-6      Algebra 3/Advanced Alg   \n",
              "4-5                    AP Stats   \n",
              ".                             .   \n",
              "2-3       Alg 2 or non-AP Stats   \n",
              "1-2     Quantitiative Reasoning   \n",
              "0-1                     No info   \n",
              "\n",
              "                                                  Notes  \n",
              "SEN                                                      \n",
              "9-10  grade A: 10, grade B: 9.5, lower than B or unk...  \n",
              "8-9                                                   .  \n",
              "7-8                      (High School Calc not AP, etc)  \n",
              "6-7                 (Business Calc, Applied Calc, etc.)  \n",
              "5-6      (College Algebra, Trig, PreCalc Algebra, etc.)  \n",
              "4-5        (College Prep Math, Math Applications, etc.)  \n",
              ".                                                     .  \n",
              "2-3                   (Prob and Stats, CIS Stats, etc.)  \n",
              "1-2   (Liberal Arts Math, Modeling with Math, Math P...  \n",
              "0-1         (Tech College Math, Personal Finance, etc.)  "
            ],
            "text/html": [
              "\n",
              "  <div id=\"df-31ca21d8-ebe7-48fb-93ef-870bca58feb3\">\n",
              "    <div class=\"colab-df-container\">\n",
              "      <div>\n",
              "<style scoped>\n",
              "    .dataframe tbody tr th:only-of-type {\n",
              "        vertical-align: middle;\n",
              "    }\n",
              "\n",
              "    .dataframe tbody tr th {\n",
              "        vertical-align: top;\n",
              "    }\n",
              "\n",
              "    .dataframe thead th {\n",
              "        text-align: right;\n",
              "    }\n",
              "</style>\n",
              "<table border=\"1\" class=\"dataframe\">\n",
              "  <thead>\n",
              "    <tr style=\"text-align: right;\">\n",
              "      <th></th>\n",
              "      <th>Course</th>\n",
              "      <th>Notes</th>\n",
              "    </tr>\n",
              "    <tr>\n",
              "      <th>SEN</th>\n",
              "      <th></th>\n",
              "      <th></th>\n",
              "    </tr>\n",
              "  </thead>\n",
              "  <tbody>\n",
              "    <tr>\n",
              "      <th>9-10</th>\n",
              "      <td>AP Calc BC</td>\n",
              "      <td>grade A: 10, grade B: 9.5, lower than B or unk...</td>\n",
              "    </tr>\n",
              "    <tr>\n",
              "      <th>8-9</th>\n",
              "      <td>AP Calc AB</td>\n",
              "      <td>.</td>\n",
              "    </tr>\n",
              "    <tr>\n",
              "      <th>7-8</th>\n",
              "      <td>PreCalc</td>\n",
              "      <td>(High School Calc not AP, etc)</td>\n",
              "    </tr>\n",
              "    <tr>\n",
              "      <th>6-7</th>\n",
              "      <td>FST (Functions/Stat/Trig)</td>\n",
              "      <td>(Business Calc, Applied Calc, etc.)</td>\n",
              "    </tr>\n",
              "    <tr>\n",
              "      <th>5-6</th>\n",
              "      <td>Algebra 3/Advanced Alg</td>\n",
              "      <td>(College Algebra, Trig, PreCalc Algebra, etc.)</td>\n",
              "    </tr>\n",
              "    <tr>\n",
              "      <th>4-5</th>\n",
              "      <td>AP Stats</td>\n",
              "      <td>(College Prep Math, Math Applications, etc.)</td>\n",
              "    </tr>\n",
              "    <tr>\n",
              "      <th>.</th>\n",
              "      <td>.</td>\n",
              "      <td>.</td>\n",
              "    </tr>\n",
              "    <tr>\n",
              "      <th>2-3</th>\n",
              "      <td>Alg 2 or non-AP Stats</td>\n",
              "      <td>(Prob and Stats, CIS Stats, etc.)</td>\n",
              "    </tr>\n",
              "    <tr>\n",
              "      <th>1-2</th>\n",
              "      <td>Quantitiative Reasoning</td>\n",
              "      <td>(Liberal Arts Math, Modeling with Math, Math P...</td>\n",
              "    </tr>\n",
              "    <tr>\n",
              "      <th>0-1</th>\n",
              "      <td>No info</td>\n",
              "      <td>(Tech College Math, Personal Finance, etc.)</td>\n",
              "    </tr>\n",
              "  </tbody>\n",
              "</table>\n",
              "</div>\n",
              "      <button class=\"colab-df-convert\" onclick=\"convertToInteractive('df-31ca21d8-ebe7-48fb-93ef-870bca58feb3')\"\n",
              "              title=\"Convert this dataframe to an interactive table.\"\n",
              "              style=\"display:none;\">\n",
              "        \n",
              "  <svg xmlns=\"http://www.w3.org/2000/svg\" height=\"24px\"viewBox=\"0 0 24 24\"\n",
              "       width=\"24px\">\n",
              "    <path d=\"M0 0h24v24H0V0z\" fill=\"none\"/>\n",
              "    <path d=\"M18.56 5.44l.94 2.06.94-2.06 2.06-.94-2.06-.94-.94-2.06-.94 2.06-2.06.94zm-11 1L8.5 8.5l.94-2.06 2.06-.94-2.06-.94L8.5 2.5l-.94 2.06-2.06.94zm10 10l.94 2.06.94-2.06 2.06-.94-2.06-.94-.94-2.06-.94 2.06-2.06.94z\"/><path d=\"M17.41 7.96l-1.37-1.37c-.4-.4-.92-.59-1.43-.59-.52 0-1.04.2-1.43.59L10.3 9.45l-7.72 7.72c-.78.78-.78 2.05 0 2.83L4 21.41c.39.39.9.59 1.41.59.51 0 1.02-.2 1.41-.59l7.78-7.78 2.81-2.81c.8-.78.8-2.07 0-2.86zM5.41 20L4 18.59l7.72-7.72 1.47 1.35L5.41 20z\"/>\n",
              "  </svg>\n",
              "      </button>\n",
              "      \n",
              "  <style>\n",
              "    .colab-df-container {\n",
              "      display:flex;\n",
              "      flex-wrap:wrap;\n",
              "      gap: 12px;\n",
              "    }\n",
              "\n",
              "    .colab-df-convert {\n",
              "      background-color: #E8F0FE;\n",
              "      border: none;\n",
              "      border-radius: 50%;\n",
              "      cursor: pointer;\n",
              "      display: none;\n",
              "      fill: #1967D2;\n",
              "      height: 32px;\n",
              "      padding: 0 0 0 0;\n",
              "      width: 32px;\n",
              "    }\n",
              "\n",
              "    .colab-df-convert:hover {\n",
              "      background-color: #E2EBFA;\n",
              "      box-shadow: 0px 1px 2px rgba(60, 64, 67, 0.3), 0px 1px 3px 1px rgba(60, 64, 67, 0.15);\n",
              "      fill: #174EA6;\n",
              "    }\n",
              "\n",
              "    [theme=dark] .colab-df-convert {\n",
              "      background-color: #3B4455;\n",
              "      fill: #D2E3FC;\n",
              "    }\n",
              "\n",
              "    [theme=dark] .colab-df-convert:hover {\n",
              "      background-color: #434B5C;\n",
              "      box-shadow: 0px 1px 3px 1px rgba(0, 0, 0, 0.15);\n",
              "      filter: drop-shadow(0px 1px 2px rgba(0, 0, 0, 0.3));\n",
              "      fill: #FFFFFF;\n",
              "    }\n",
              "  </style>\n",
              "\n",
              "      <script>\n",
              "        const buttonEl =\n",
              "          document.querySelector('#df-31ca21d8-ebe7-48fb-93ef-870bca58feb3 button.colab-df-convert');\n",
              "        buttonEl.style.display =\n",
              "          google.colab.kernel.accessAllowed ? 'block' : 'none';\n",
              "\n",
              "        async function convertToInteractive(key) {\n",
              "          const element = document.querySelector('#df-31ca21d8-ebe7-48fb-93ef-870bca58feb3');\n",
              "          const dataTable =\n",
              "            await google.colab.kernel.invokeFunction('convertToInteractive',\n",
              "                                                     [key], {});\n",
              "          if (!dataTable) return;\n",
              "\n",
              "          const docLinkHtml = 'Like what you see? Visit the ' +\n",
              "            '<a target=\"_blank\" href=https://colab.research.google.com/notebooks/data_table.ipynb>data table notebook</a>'\n",
              "            + ' to learn more about interactive tables.';\n",
              "          element.innerHTML = '';\n",
              "          dataTable['output_type'] = 'display_data';\n",
              "          await google.colab.output.renderOutput(dataTable, element);\n",
              "          const docLink = document.createElement('div');\n",
              "          docLink.innerHTML = docLinkHtml;\n",
              "          element.appendChild(docLink);\n",
              "        }\n",
              "      </script>\n",
              "    </div>\n",
              "  </div>\n",
              "  "
            ]
          },
          "metadata": {},
          "execution_count": 15
        }
      ]
    }
  ],
  "metadata": {
    "colab": {
      "provenance": [],
      "include_colab_link": true
    },
    "kernelspec": {
      "display_name": "Python 3 (ipykernel)",
      "language": "python",
      "name": "python3"
    },
    "language_info": {
      "codemirror_mode": {
        "name": "ipython",
        "version": 3
      },
      "file_extension": ".py",
      "mimetype": "text/x-python",
      "name": "python",
      "nbconvert_exporter": "python",
      "pygments_lexer": "ipython3",
      "version": "3.9.13"
    }
  },
  "nbformat": 4,
  "nbformat_minor": 0
}